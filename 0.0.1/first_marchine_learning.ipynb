{
 "cells": [
  {
   "cell_type": "markdown",
   "id": "a60fce10-f5ab-49d7-b370-06317d0a15ae",
   "metadata": {},
   "source": [
    "# Read from root path /Users/gavinxu/data/dog-breed\n",
    "## Images in the sub path /Images/*/\n",
    "    \n",
    "## Annotations in the sub path /Annotation/*/, Properties by XPath \n",
    "    /annotation/folder,\n",
    "    /annotation/filename,\n",
    "    /annotation/object/name,\n",
    "    /annotation/object/bndbox/xmin,\n",
    "    /annotation/object/bndbox/ymin,\n",
    "    /annotation/object/bndbox/xmax,\n",
    "    /annotation/object/bndbox/ymax,"
   ]
  },
  {
   "cell_type": "code",
   "execution_count": 146,
   "id": "f0f5cd3c-7595-4348-876b-6bc238934d01",
   "metadata": {},
   "outputs": [],
   "source": [
    "root_path = \"/Users/gavinxu/data/dog-breed\"\n",
    "images_path = f'{root_path}/Images'\n",
    "annotation_path = f'{root_path}/Annotation'\n",
    "test_percent=0.4"
   ]
  },
  {
   "cell_type": "code",
   "execution_count": 147,
   "id": "1d881bc3-8d7a-4ed2-ab95-d9d240b670f2",
   "metadata": {},
   "outputs": [],
   "source": [
    "import os\n",
    "from os import walk\n",
    "from lxml import etree\n",
    "from sklearn.model_selection import train_test_split"
   ]
  },
  {
   "cell_type": "code",
   "execution_count": 233,
   "id": "d0078877-a5b1-4605-aad2-65e592268751",
   "metadata": {},
   "outputs": [],
   "source": [
    "def get_breed_images(path):\n",
    "    files = []\n",
    "    boxes = []\n",
    "    with os.scandir(path) as annotation_files:\n",
    "        for annotation_file in annotation_files:\n",
    "            tree = etree.parse(f'{path}/{annotation_file.name}')\n",
    "            object_name = tree.xpath(\"/annotation/object/name\")[0].text\n",
    "            files.append([f'{images_path}/n{tree.xpath(\"/annotation/folder\")[0].text}-{object_name}/{tree.xpath(\"/annotation/filename\")[0].text}.jpg',\n",
    "                          object_name])\n",
    "            boxes.append([tree.xpath(\"/annotation/object/bndbox/xmin\")[0].text,\n",
    "                          tree.xpath(\"/annotation/object/bndbox/ymin\")[0].text,\n",
    "                          tree.xpath(\"/annotation/object/bndbox/xmax\")[0].text,\n",
    "                          tree.xpath(\"/annotation/object/bndbox/ymax\")[0].text])\n",
    "    return (files, boxes)\n",
    "\n",
    "def split(arr1, arr2, arr3):\n",
    "    (arr1_train, arr1_notrain, arr2_train, arr2_notrain, arr3_train, arr3_notrain) = train_test_split(arr1, arr2, arr3, test_size=test_percent, random_state=10)\n",
    "    (cv, test) = train_test_split(non_train, test_size=0.5)\n",
    "\n",
    "def get_all_images(annotation_path):\n",
    "    files = []\n",
    "    boxes = []\n",
    "    with os.scandir(annotation_path) as annotation_sub_paths:\n",
    "        for annotation_sub_path in annotation_sub_paths:\n",
    "            (_files, _boxes) = get_breed_images(f'{annotation_path}/{annotation_sub_path.name}')\n",
    "            files.extend(_files)\n",
    "            boxes.extend(_boxes)\n",
    "    return (files, boxes)"
   ]
  },
  {
   "cell_type": "code",
   "execution_count": 236,
   "id": "29d75347-8282-4c7f-83e1-3f081d9f68ce",
   "metadata": {},
   "outputs": [
    {
     "name": "stdout",
     "output_type": "stream",
     "text": [
      "[['/Users/gavinxu/data/dog-breed/Images/n02097658-silky_terrier/n02097658_98.jpg', 'silky_terrier'], ['/Users/gavinxu/data/dog-breed/Images/n02097658-silky_terrier/n02097658_2535.jpg', 'silky_terrier'], ['/Users/gavinxu/data/dog-breed/Images/n02097658-silky_terrier/n02097658_271.jpg', 'silky_terrier'], ['/Users/gavinxu/data/dog-breed/Images/n02097658-silky_terrier/n02097658_427.jpg', 'silky_terrier'], ['/Users/gavinxu/data/dog-breed/Images/n02097658-silky_terrier/n02097658_4890.jpg', 'silky_terrier']]\n",
      "[['93', '117', '269', '289'], ['216', '69', '498', '289'], ['0', '0', '366', '331'], ['174', '1', '1018', '762'], ['124', '27', '357', '281']]\n"
     ]
    }
   ],
   "source": [
    "(files, boxes) = get_all_images(annotation_path)\n",
    "print(files[:5])\n",
    "print(boxes[:5])"
   ]
  },
  {
   "cell_type": "code",
   "execution_count": null,
   "id": "6aac3397-b356-4aee-9f01-7538108369d6",
   "metadata": {},
   "outputs": [],
   "source": []
  },
  {
   "cell_type": "code",
   "execution_count": null,
   "id": "f68d6a77-2050-4caa-9af8-70ce9a064128",
   "metadata": {},
   "outputs": [],
   "source": []
  }
 ],
 "metadata": {
  "kernelspec": {
   "display_name": "Python 3 (ipykernel)",
   "language": "python",
   "name": "python3"
  },
  "language_info": {
   "codemirror_mode": {
    "name": "ipython",
    "version": 3
   },
   "file_extension": ".py",
   "mimetype": "text/x-python",
   "name": "python",
   "nbconvert_exporter": "python",
   "pygments_lexer": "ipython3",
   "version": "3.11.4"
  }
 },
 "nbformat": 4,
 "nbformat_minor": 5
}
